{
 "cells": [
  {
   "cell_type": "markdown",
   "metadata": {},
   "source": [
    "# OsmRx example"
   ]
  },
  {
   "cell_type": "markdown",
   "metadata": {},
   "source": [
    "## Imports and prepare input parameters"
   ]
  },
  {
   "cell_type": "code",
   "execution_count": null,
   "metadata": {
    "pycharm": {
     "is_executing": false
    },
    "tags": []
   },
   "outputs": [],
   "source": [
    "from IPython.display import display\n",
    "\n",
    "from bokeh.plotting import output_notebook\n",
    "\n",
    "output_notebook()\n",
    "\n"
   ]
  },
  {
   "cell_type": "code",
   "execution_count": null,
   "metadata": {
    "tags": []
   },
   "outputs": [],
   "source": [
    "# Set a location name\n",
    "location = \"Roanne\""
   ]
  },
  {
   "cell_type": "markdown",
   "metadata": {},
   "source": [
    "## Get POIs"
   ]
  },
  {
   "cell_type": "code",
   "execution_count": null,
   "metadata": {
    "pycharm": {
     "is_executing": false
    },
    "tags": []
   },
   "outputs": [],
   "source": [
    "%%time\n",
    "from osmrx import Pois\n",
    "\n",
    "pois_object = Pois()\n",
    "pois_object.from_location(location)\n",
    "\n",
    "# Get the roads data: a list of dict containing the geometry and the attributes\n",
    "pois_data = pois_object.data"
   ]
  },
  {
   "cell_type": "markdown",
   "metadata": {},
   "source": [
    "## Get Roads"
   ]
  },
  {
   "cell_type": "code",
   "execution_count": null,
   "metadata": {
    "pycharm": {
     "is_executing": false
    },
    "tags": []
   },
   "outputs": [],
   "source": [
    "%%time\n",
    "from osmrx import Roads\n",
    "\n",
    "# Let's to get the roads network and connect POIs found on the same location\n",
    "vehicle_object = Roads(\"vehicle\",\n",
    "                        pois_object.data)\n",
    "vehicle_object.from_location(location)\n",
    "\n",
    "# Get the roads data: a list of dict containing the geometry and the attributes\n",
    "roads_data = vehicle_object.data"
   ]
  },
  {
   "cell_type": "markdown",
   "metadata": {},
   "source": [
    "## Display roads and nodes"
   ]
  },
  {
   "cell_type": "code",
   "execution_count": null,
   "metadata": {
    "tags": []
   },
   "outputs": [],
   "source": [
    "%%time\n",
    "\n",
    "from bokeh.plotting import show\n",
    "import geopandas as gpd\n",
    "from gdf2bokeh import Gdf2Bokeh\n",
    "\n",
    "map_session = Gdf2Bokeh(\n",
    "    \"My network map\",\n",
    "    width=800,\n",
    "    height=600,\n",
    "    background_map_name=\"CARTODBPOSITRON\"\n",
    ")\n",
    "\n",
    "map_session.add_layer_from_dict_list(\"Roads\", roads_data, from_epsg=4326,\n",
    "                                     color=\"black\")\n",
    "map_session.add_layer_from_dict_list(\"POIs\", pois_data, from_epsg=4326,\n",
    "                                     color=\"blue\", size=9)\n",
    "\n",
    "map_session.add_layers_on_maps()\n",
    "\n",
    "show(map_session.figure)\n"
   ]
  },
  {
   "cell_type": "markdown",
   "metadata": {},
   "source": [
    "## Check topology details"
   ]
  },
  {
   "cell_type": "code",
   "execution_count": null,
   "metadata": {},
   "outputs": [],
   "source": [
    "%%time\n",
    "\n",
    "roads_topo_data = vehicle_object.topology_checker()\n",
    "\n",
    "map_session = Gdf2Bokeh(\n",
    "    \"My topology network map\",\n",
    "    width=800,\n",
    "    height=600,\n",
    "    background_map_name=\"CARTODBPOSITRON\"\n",
    ")\n",
    "\n",
    "map_session.add_layer_from_dict_list(\"Roads unchanged\", roads_topo_data.lines_unchanged, from_epsg=4326,\n",
    "                                     color=\"black\")\n",
    "map_session.add_layer_from_dict_list(\"Roads added\", roads_topo_data.lines_added, from_epsg=4326,\n",
    "                                     color=\"green\")\n",
    "map_session.add_layer_from_dict_list(\"Roads split\", roads_topo_data.lines_split, from_epsg=4326,\n",
    "                                     color=\"orange\")\n",
    "map_session.add_layer_from_dict_list(\"Intersections added\", roads_topo_data.intersections_added, from_epsg=4326,\n",
    "                                     color=\"red\")\n",
    "map_session.add_layer_from_dict_list(\"POIs added\", roads_topo_data.nodes_added, from_epsg=4326,\n",
    "                                     color=\"blue\", size=9)\n",
    "\n",
    "map_session.add_layers_on_maps()\n",
    "\n",
    "show(map_session.figure)\n"
   ]
  },
  {
   "cell_type": "markdown",
   "metadata": {
    "tags": []
   },
   "source": [
    "## Compute a shortest path"
   ]
  },
  {
   "cell_type": "code",
   "execution_count": null,
   "metadata": {},
   "outputs": [],
   "source": [
    "from osmrx.main.roads import GraphAnalysis\n",
    "\n",
    "from_poi = pois_data[50][\"geometry\"]\n",
    "to_poi = pois_data[60][\"geometry\"]\n",
    "\n",
    "analysis_object = GraphAnalysis(\"pedestrian\",\n",
    "                                [from_poi, to_poi])\n",
    "paths_found = analysis_object.get_shortest_path()\n",
    "paths = []\n",
    "for feature in paths_found:\n",
    "    paths.extend(feature.features())\n",
    "\n",
    "map_session = Gdf2Bokeh(\n",
    "    \"My computed path\",\n",
    "    width=800,\n",
    "    height=600,\n",
    "    background_map_name=\"CARTODBPOSITRON\"\n",
    ")\n",
    "\n",
    "map_session.add_layer_from_dict_list(\"Path found\", paths, from_epsg=4326,\n",
    "                                     color=\"blue\")\n",
    "map_session.add_layer_from_geom_list(\"From\", [from_poi], from_epsg=4326,\n",
    "                                     color=\"red\", size=9)\n",
    "map_session.add_layer_from_geom_list(\"To\", [to_poi], from_epsg=4326,\n",
    "                                     color=\"green\", size=9)\n",
    "\n",
    "map_session.add_layers_on_maps()\n",
    "\n",
    "show(map_session.figure)"
   ]
  },
  {
   "cell_type": "markdown",
   "metadata": {},
   "source": [
    "## Compute isochrones"
   ]
  },
  {
   "cell_type": "code",
   "execution_count": null,
   "metadata": {
    "tags": []
   },
   "outputs": [],
   "source": [
    "from bokeh.palettes import all_palettes\n",
    "\n",
    "from_poi = pois_data[50][\"geometry\"]\n",
    " \n",
    "analysis_object = GraphAnalysis(\"vehicle\", [from_poi])\n",
    "isochrones_built = analysis_object.isochrones_from_distance([0, 250, 500, 1000, 1500], 0.6)\n",
    "\n",
    "isochrones = isochrones_built.data\n",
    "for pos, feature in enumerate(isochrones):\n",
    "    feature[\"color\"] = all_palettes['RdBu'][len(isochrones)][::-1][pos]\n",
    "\n",
    "map_session = Gdf2Bokeh(\n",
    "    \"My isochrone\",\n",
    "    width=800,\n",
    "    height=600,\n",
    "    background_map_name=\"CARTODBPOSITRON\"\n",
    ")\n",
    "\n",
    "map_session.add_layer_from_dict_list(\"Isochrones\", isochrones_built.data, from_epsg=4326,\n",
    "                                     color=\"color\", line_color=\"white\", fill_alpha=0.6)\n",
    "map_session.add_layer_from_geom_list(\"From\", [from_poi], from_epsg=4326,\n",
    "                                     color=\"red\", size=9)\n",
    "\n",
    "map_session.add_layers_on_maps()\n",
    "\n",
    "show(map_session.figure)"
   ]
  }
 ],
 "metadata": {
  "kernelspec": {
   "display_name": "Python 3 (ipykernel)",
   "language": "python",
   "name": "python3"
  },
  "language_info": {
   "codemirror_mode": {
    "name": "ipython",
    "version": 3
   },
   "file_extension": ".py",
   "mimetype": "text/x-python",
   "name": "python",
   "nbconvert_exporter": "python",
   "pygments_lexer": "ipython3",
   "version": "3.11.0"
  }
 },
 "nbformat": 4,
 "nbformat_minor": 4
}
