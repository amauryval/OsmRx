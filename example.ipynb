{
 "cells": [
  {
   "cell_type": "markdown",
   "metadata": {},
   "source": [
    "# OsmRx example"
   ]
  },
  {
   "cell_type": "markdown",
   "metadata": {},
   "source": [
    "## Imports and prepare input parameters"
   ]
  },
  {
   "cell_type": "code",
   "execution_count": null,
   "metadata": {
    "pycharm": {
     "is_executing": false
    },
    "tags": []
   },
   "outputs": [],
   "source": [
    "from IPython.display import display\n",
    "\n",
    "from bokeh.plotting import output_notebook\n",
    "\n",
    "output_notebook()\n",
    "\n"
   ]
  },
  {
   "cell_type": "code",
   "execution_count": null,
   "metadata": {
    "tags": []
   },
   "outputs": [],
   "source": [
    "# Set a location name\n",
    "location = \"Roanne\"\n"
   ]
  },
  {
   "cell_type": "markdown",
   "metadata": {},
   "source": [
    "## Get POIs"
   ]
  },
  {
   "cell_type": "code",
   "execution_count": null,
   "metadata": {
    "pycharm": {
     "is_executing": false
    },
    "tags": []
   },
   "outputs": [],
   "source": [
    "%%time\n",
    "from osmrx import Pois\n",
    "\n",
    "pois_object = Pois()\n",
    "pois_object.from_location(location)\n",
    "\n",
    "# Get the roads data: a list of dict containing the geometry and the attributes\n",
    "pois_data = pois_object.data"
   ]
  },
  {
   "cell_type": "markdown",
   "metadata": {},
   "source": [
    "## Get Roads"
   ]
  },
  {
   "cell_type": "code",
   "execution_count": null,
   "metadata": {
    "pycharm": {
     "is_executing": false
    },
    "tags": []
   },
   "outputs": [],
   "source": [
    "%%time\n",
    "from osmrx import Roads\n",
    "\n",
    "# Let's to get the roads network and connect POIs found on the same location\n",
    "vehicle_object = Roads(\"vehicle\",\n",
    "                        pois_object.data)\n",
    "vehicle_object.from_location(location)\n",
    "\n",
    "# Get the roads data: a list of dict containing the geometry and the attributes\n",
    "roads_data = vehicle_object.data"
   ]
  },
  {
   "cell_type": "markdown",
   "metadata": {},
   "source": [
    "## Display roads and nodes"
   ]
  },
  {
   "cell_type": "code",
   "execution_count": null,
   "metadata": {
    "tags": []
   },
   "outputs": [],
   "source": [
    "%%time\n",
    "\n",
    "from bokeh.plotting import show\n",
    "import geopandas as gpd\n",
    "from gdf2bokeh import Gdf2Bokeh\n",
    "\n",
    "map_session = Gdf2Bokeh(\n",
    "    \"My network map\",\n",
    "    width=800,\n",
    "    height=600,\n",
    "    background_map_name=\"CARTODBPOSITRON\"\n",
    ")\n",
    "\n",
    "map_session.add_layer_from_dict_list(\n",
    "    \"Roads\",\n",
    "    roads_data,\n",
    "    from_epsg=4326,\n",
    "    color=\"black\")\n",
    "\n",
    "map_session.add_layer_from_dict_list(\n",
    "    \"POIs\",\n",
    "    pois_data,\n",
    "    from_epsg=4326,\n",
    "    color=\"blue\", size=9)\n",
    "\n",
    "map_session.add_layers_on_maps()\n",
    "\n",
    "show(map_session.figure)\n"
   ]
  },
  {
   "cell_type": "markdown",
   "metadata": {},
   "source": [
    "## Check topology details"
   ]
  },
  {
   "cell_type": "code",
   "execution_count": null,
   "metadata": {},
   "outputs": [],
   "source": [
    "%%time\n",
    "\n",
    "roads_topo_data = vehicle_object.topology_checker()\n",
    "\n",
    "map_session = Gdf2Bokeh(\n",
    "    \"My topology network map\",\n",
    "    width=800,\n",
    "    height=600,\n",
    "    background_map_name=\"CARTODBPOSITRON\"\n",
    ")\n",
    "\n",
    "map_session.add_layer_from_dict_list(\n",
    "    \"Roads unchanged\",\n",
    "    roads_topo_data.lines_unchanged,\n",
    "    from_epsg=4326,\n",
    "    color=\"black\")\n",
    "\n",
    "map_session.add_layer_from_dict_list(\n",
    "    \"Roads added\",\n",
    "    roads_topo_data.lines_added,\n",
    "    from_epsg=4326,\n",
    "    color=\"green\")\n",
    "\n",
    "map_session.add_layer_from_dict_list(\n",
    "    \"Roads split\",\n",
    "    roads_topo_data.lines_split,\n",
    "    from_epsg=4326,\n",
    "    color=\"orange\")\n",
    "\n",
    "map_session.add_layer_from_dict_list(\n",
    "    \"Intersections added\",\n",
    "    roads_topo_data.intersections_added,\n",
    "    from_epsg=4326,\n",
    "    color=\"red\")\n",
    "\n",
    "map_session.add_layer_from_dict_list(\n",
    "    \"POIs added\",\n",
    "    roads_topo_data.nodes_added,\n",
    "    from_epsg=4326,\n",
    "    color=\"blue\",\n",
    "    size=9)\n",
    "\n",
    "map_session.add_layers_on_maps()\n",
    "\n",
    "show(map_session.figure)\n"
   ]
  },
  {
   "cell_type": "markdown",
   "metadata": {
    "tags": []
   },
   "source": [
    "## Compute a shortest path"
   ]
  },
  {
   "cell_type": "code",
   "execution_count": null,
   "metadata": {},
   "outputs": [],
   "source": [
    "from osmrx.main.roads import GraphAnalysis\n",
    "\n",
    "\n",
    "from_poi = pois_data[50][\"geometry\"]\n",
    "to_poi = pois_data[60][\"geometry\"]\n",
    "\n",
    "analysis_object = GraphAnalysis(\"pedestrian\",\n",
    "                                [from_poi, to_poi])\n",
    "paths_found = analysis_object.get_shortest_path()\n",
    "paths = [feature.path for feature in paths_found]\n",
    "\n",
    "map_session = Gdf2Bokeh(\n",
    "    \"My computed path\",\n",
    "    width=800,\n",
    "    height=600,\n",
    "    background_map_name=\"CARTODBPOSITRON\"\n",
    ")\n",
    "\n",
    "map_session.add_layer_from_geom_list(\n",
    "    \"Path found\",\n",
    "    paths,\n",
    "    from_epsg=4326,\n",
    "    color=\"blue\")\n",
    "\n",
    "map_session.add_layer_from_geom_list(\n",
    "    \"From\",\n",
    "    [from_poi],\n",
    "    from_epsg=4326,\n",
    "    color=\"red\",\n",
    "    size=9)\n",
    "\n",
    "map_session.add_layer_from_geom_list(\n",
    "    \"To\",\n",
    "    [to_poi],\n",
    "    from_epsg=4326,\n",
    "    color=\"green\",\n",
    "    size=9)\n",
    "\n",
    "map_session.add_layers_on_maps()\n",
    "\n",
    "show(map_session.figure)"
   ]
  },
  {
   "cell_type": "markdown",
   "metadata": {},
   "source": [
    "## Compute a shortest path"
   ]
  },
  {
   "cell_type": "code",
   "execution_count": null,
   "metadata": {
    "tags": []
   },
   "outputs": [],
   "source": [
    "from bokeh.palettes import all_palettes\n",
    "\n",
    "from_poi = pois_data[50][\"geometry\"]\n",
    " \n",
    "analysis_object = GraphAnalysis(\"vehicle\", [from_poi])\n",
    "isochrones_built = analysis_object.isochrones_from_distance([0, 250, 500, 1000, 1500])\n",
    "\n",
    "isochrones = isochrones_built.data\n",
    "for pos, feature in enumerate(isochrones):\n",
    "    feature[\"color\"] = all_palettes['RdBu'][len(isochrones)][::-1][pos]\n",
    "\n",
    "map_session = Gdf2Bokeh(\n",
    "    \"My isochrone\",\n",
    "    width=800,\n",
    "    height=600,\n",
    "    background_map_name=\"CARTODBPOSITRON\"\n",
    ")\n",
    "\n",
    "map_session.add_layer_from_dict_list(\n",
    "    \"Isochrones\",\n",
    "    isochrones_built.data,\n",
    "    from_epsg=4326,\n",
    "    color=\"color\",\n",
    "    line_color=\"white\",\n",
    "    fill_alpha=0.6)\n",
    "\n",
    "map_session.add_layer_from_geom_list(\n",
    "    \"From\",\n",
    "    [from_poi],\n",
    "    from_epsg=4326,\n",
    "    color=\"red\",\n",
    "    size=9)\n",
    "\n",
    "map_session.add_layers_on_maps()\n",
    "\n",
    "show(map_session.figure)"
   ]
  },
  {
   "cell_type": "code",
   "execution_count": null,
   "metadata": {},
   "outputs": [],
   "source": []
  }
 ],
 "metadata": {
  "kernelspec": {
   "display_name": "Python 3 (ipykernel)",
   "language": "python",
   "name": "python3"
  },
  "language_info": {
   "codemirror_mode": {
    "name": "ipython",
    "version": 3
   },
   "file_extension": ".py",
   "mimetype": "text/x-python",
   "name": "python",
   "nbconvert_exporter": "python",
   "pygments_lexer": "ipython3",
   "version": "3.11.0"
  }
 },
 "nbformat": 4,
 "nbformat_minor": 4
}
